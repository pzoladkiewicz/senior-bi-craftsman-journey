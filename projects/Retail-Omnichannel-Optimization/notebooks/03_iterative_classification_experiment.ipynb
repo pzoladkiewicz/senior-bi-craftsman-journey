{
 "cells": [
  {
   "cell_type": "code",
   "execution_count": 1,
   "id": "f3c8a0c2-4241-4a6d-aa92-076bcc36574d",
   "metadata": {},
   "outputs": [
    {
     "name": "stdout",
     "output_type": "stream",
     "text": [
      "EKSPERYMENTALNA KLASYFIKACJA TRANSAKCJI\n",
      "============================================================\n"
     ]
    }
   ],
   "source": [
    "# -*- coding: utf-8 -*-\n",
    "# notebooks/03_iterative_classification_experiment.ipynb\n",
    "# Eksperymentalna klasyfikacja transakcji przed modyfikacją run_etl.py\n",
    "# Autor: Paweł Żołądkiewicz, Senior BI Analyst\n",
    "# Cel: Testowanie reguł klasyfikacji z przesuniętą regułą gratisów\n",
    "\n",
    "import pandas as pd\n",
    "import numpy as np\n",
    "from datetime import datetime\n",
    "import sys\n",
    "import os\n",
    "\n",
    "sys.path.append('../')\n",
    "from run_etl import load_raw_excel, clean_raw\n",
    "\n",
    "print(\"EKSPERYMENTALNA KLASYFIKACJA TRANSAKCJI\")\n",
    "print(\"=\" * 60)"
   ]
  },
  {
   "cell_type": "code",
   "execution_count": 2,
   "id": "277b00d9-3613-480e-b048-1ff7abc32902",
   "metadata": {},
   "outputs": [
    {
     "name": "stdout",
     "output_type": "stream",
     "text": [
      "KROK 1: Ładowanie i czyszczenie danych...\n",
      "[2025-08-23 15:34:57] Ładowanie surowych danych z: ../data/raw/online_retail_II.xlsx\n",
      "[2025-08-23 15:35:56] Wczytano 1,067,371 rekordów z 2 arkuszy\n",
      "[2025-08-23 15:35:56] Walidacja obecnosci kolumn RAW...\n",
      "[2025-08-23 15:35:56] Konwersja typów (Quantity, Price, InvoiceDate)...\n",
      "[2025-08-23 15:35:58] Deduplikacja rekordów...\n",
      "[2025-08-23 15:35:58] Usunięto duplikatów: 34,337\n",
      "[2025-08-23 15:35:58] Filtrowanie prawidłowych sprzedaży...\n",
      "[2025-08-23 15:35:58] Po filtrowaniu: 1,007,912 rekordów\n",
      "[2025-08-23 15:35:58] Standaryzacja krajów...\n",
      "[2025-08-23 15:35:58] Czyszczenie opisów produktu...\n",
      "[2025-08-23 15:35:59] Kalkulacja Total_Value...\n",
      "[2025-08-23 15:35:59] Łączny przychód: £20,476,082.17\n",
      "[2025-08-23 15:35:59] Quality Gates po czyszczeniu...\n",
      "Dane do klasyfikacji: 1,007,912 rekordów\n"
     ]
    }
   ],
   "source": [
    "print(\"KROK 1: Ładowanie i czyszczenie danych...\")\n",
    "\n",
    "raw_data = load_raw_excel(\"../data/raw/online_retail_II.xlsx\")\n",
    "clean_data = clean_raw(raw_data)\n",
    "\n",
    "print(f\"Dane do klasyfikacji: {len(clean_data):,} rekordów\")"
   ]
  },
  {
   "cell_type": "code",
   "execution_count": 7,
   "id": "a2e009b2-b329-4751-9a1b-fd10783a81c1",
   "metadata": {},
   "outputs": [
    {
     "name": "stdout",
     "output_type": "stream",
     "text": [
      "KROK 2: Przygotowanie danych do klasyfikacji...\n",
      "Przygotowano 1,007,912 rekordów do klasyfikacji\n"
     ]
    }
   ],
   "source": [
    "print(\"KROK 2: Przygotowanie danych do klasyfikacji...\")\n",
    "\n",
    "# Skopiuj dane\n",
    "df = clean_data.copy()\n",
    "\n",
    "# Dodaj kolumny klasyfikacyjne\n",
    "df['TransactionCategory'] = 'ToVerification'\n",
    "df['ClassificationRule'] = 'None'\n",
    "df['ClassificationStep'] = 0\n",
    "\n",
    "print(f\"Przygotowano {len(df):,} rekordów do klasyfikacji\")"
   ]
  },
  {
   "cell_type": "code",
   "execution_count": 8,
   "id": "6ba5777e-718c-4743-bf7d-c4d711a584b7",
   "metadata": {},
   "outputs": [
    {
     "name": "stdout",
     "output_type": "stream",
     "text": [
      "Funkcje pomocnicze zdefiniowane\n"
     ]
    }
   ],
   "source": [
    "def apply_rule(dataframe, rule_name , condition_func, category, step_number):\n",
    "    \"\"\"Aplikuje regułę klasyfikacji i zwraca statystyki\"\"\"\n",
    "    mask = (dataframe['TransactionCategory'] == 'ToVerification') & dataframe.apply(condition_func, axis=1)\n",
    "    count = mask.sum()\n",
    "\n",
    "    if count > 0:\n",
    "        dataframe.loc[mask, 'TransactionCategory'] = category\n",
    "        dataframe.loc[mask, 'ClassificationRule'] = rule_name\n",
    "        dataframe.loc[mask, 'ClassificationStep'] = step_number\n",
    "\n",
    "    percentage = (count / len(dataframe)) * 100\n",
    "    remaining = (dataframe['TransactionCategory'] == 'ToVerification').sum()\n",
    "    remaining_pct = (remaining / len(dataframe)) * 100\n",
    "\n",
    "    print(f\" {rule_name}: {count:,} rekordów ({percentage:.1f}%)\")\n",
    "\n",
    "    if remaining_pct < 5.0:\n",
    "        print(f\"UWAGA: ToVerification spadło poniżej 5% - rozważ zakończenie iteracji\")\n",
    "\n",
    "    return count, remaining_pct\n",
    "\n",
    "def show_classification_summary(dataframe):\n",
    "    \"\"\"Pokazuje podsumowanie klasyfikacji\"\"\"\n",
    "    summary = dataframe['TransactionCategory'].value_counts().sort_values(ascending=False)\n",
    "    print(\"\\nPODSUMOWANIE KLASYFIKACJI:\")\n",
    "    for category, count in summary.items():\n",
    "        percentage = (count / len(dataframe)) * 100\n",
    "        print(f\" {category}: {count:,} ({percentage:.1f}%)\")\n",
    "\n",
    "print(\"Funkcje pomocnicze zdefiniowane\")"
   ]
  },
  {
   "cell_type": "code",
   "execution_count": 9,
   "id": "7b9815de-80df-4b6b-b989-bb1811d7f670",
   "metadata": {},
   "outputs": [
    {
     "name": "stdout",
     "output_type": "stream",
     "text": [
      "REGUŁA 1: Opłaty pocztowe...\n",
      " Opłaty_Pocztowe: 3,266 rekordów (0.3%)\n"
     ]
    },
    {
     "data": {
      "text/plain": [
       "(np.int64(3266), np.float64(99.67596377461524))"
      ]
     },
     "execution_count": 9,
     "metadata": {},
     "output_type": "execute_result"
    }
   ],
   "source": [
    "print(\"REGUŁA 1: Opłaty pocztowe...\")\n",
    "\n",
    "def is_postage(row):\n",
    "    stock_code = str(row['StockCode']).upper()\n",
    "    description = str(row['Description']).upper()\n",
    "    return (stock_code in ['POST', 'DOT'] or\n",
    "            'POSTAGE' in stock_code or\n",
    "            'POSTAGE' in description)\n",
    "\n",
    "apply_rule(df, \"Opłaty_Pocztowe\", is_postage, \"Postage\", 1)"
   ]
  },
  {
   "cell_type": "code",
   "execution_count": 10,
   "id": "6b41eedc-c86d-49b8-b0f1-6d6a9ea434ac",
   "metadata": {},
   "outputs": [
    {
     "name": "stdout",
     "output_type": "stream",
     "text": [
      "REGUŁA 2: Opłaty pocztowe...\n",
      " Rabaty: 5 rekordów (0.0%)\n"
     ]
    },
    {
     "data": {
      "text/plain": [
       "(np.int64(5), np.float64(99.67546769956107))"
      ]
     },
     "execution_count": 10,
     "metadata": {},
     "output_type": "execute_result"
    }
   ],
   "source": [
    "print(\"REGUŁA 2: Rabaty...\")\n",
    "\n",
    "def is_discount(row):\n",
    "    stock_code = str(row['StockCode']).upper()\n",
    "    description = str(row['Description']).upper()\n",
    "    return (stock_code == 'D' or description == 'DISCOUNT')\n",
    "\n",
    "apply_rule(df, \"Rabaty\", is_discount, \"Discount\", 2)"
   ]
  },
  {
   "cell_type": "code",
   "execution_count": 11,
   "id": "f68246b5-5c9f-4490-9ba1-8b38ab686963",
   "metadata": {},
   "outputs": [
    {
     "name": "stdout",
     "output_type": "stream",
     "text": [
      "REGUŁA 3: Opłaty bankowe...\n",
      " Oplaty_Bankowe: 34 rekordów (0.0%)\n"
     ]
    },
    {
     "data": {
      "text/plain": [
       "(np.int64(34), np.float64(99.67209438919271))"
      ]
     },
     "execution_count": 11,
     "metadata": {},
     "output_type": "execute_result"
    }
   ],
   "source": [
    "print(\"REGUŁA 3: Opłaty bankowe...\")\n",
    "\n",
    "def is_bank_charge(row):\n",
    "    stock_code = str(row['StockCode']).upper()\n",
    "    description = str(row['Description']).upper()\n",
    "    return (stock_code == 'BANK CHARGES' or description == 'BANK CHARGES')\n",
    "\n",
    "apply_rule(df, \"Oplaty_Bankowe\", is_bank_charge, \"BankCharges\", 3)"
   ]
  },
  {
   "cell_type": "code",
   "execution_count": null,
   "id": "fef25e21-4011-459d-a44b-d74e8a0468de",
   "metadata": {},
   "outputs": [],
   "source": []
  }
 ],
 "metadata": {
  "kernelspec": {
   "display_name": "Python 3.13",
   "language": "python",
   "name": "python313"
  },
  "language_info": {
   "codemirror_mode": {
    "name": "ipython",
    "version": 3
   },
   "file_extension": ".py",
   "mimetype": "text/x-python",
   "name": "python",
   "nbconvert_exporter": "python",
   "pygments_lexer": "ipython3",
   "version": "3.13.6"
  }
 },
 "nbformat": 4,
 "nbformat_minor": 5
}
