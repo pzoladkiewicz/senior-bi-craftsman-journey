{
 "cells": [
  {
   "cell_type": "code",
   "execution_count": 4,
   "id": "f3c8a0c2-4241-4a6d-aa92-076bcc36574d",
   "metadata": {},
   "outputs": [
    {
     "name": "stdout",
     "output_type": "stream",
     "text": [
      "EKSPERYMENTALNA KLASYFIKACJA TRANSAKCJI\n",
      "============================================================\n"
     ]
    }
   ],
   "source": [
    "# -*- coding: utf-8 -*-\n",
    "# notebooks/03_iterative_classification_experiment.ipynb\n",
    "# Eksperymentalna klasyfikacja transakcji przed modyfikacją run_etl.py\n",
    "# Autor: Paweł Żołądkiewicz, Senior BI Analyst\n",
    "# Cel: Testowanie reguł klasyfikacji z przesuniętą regułą gratisów\n",
    "\n",
    "import pandas as pd\n",
    "import numpy as np\n",
    "from datetime import datetime\n",
    "import sys\n",
    "import os\n",
    "\n",
    "sys.path.append('.')\n",
    "from run_etl import load_raw_excel, clean_raw\n",
    "\n",
    "print(\"EKSPERYMENTALNA KLASYFIKACJA TRANSAKCJI\")\n",
    "print(\"=\" * 60)"
   ]
  },
  {
   "cell_type": "code",
   "execution_count": 5,
   "id": "277b00d9-3613-480e-b048-1ff7abc32902",
   "metadata": {},
   "outputs": [
    {
     "name": "stdout",
     "output_type": "stream",
     "text": [
      "KROK 1: Ładowanie i czyszczenie danych...\n",
      "[2025-08-22 22:45:59] Ładowanie surowych danych z: data/raw/online_retail_II.xlsx\n",
      "[2025-08-22 22:46:59] Wczytano 1,067,371 rekordów z 2 arkuszy\n",
      "[2025-08-22 22:46:59] Walidacja obecnosci kolumn RAW...\n",
      "[2025-08-22 22:46:59] Konwersja typów (Quantity, Price, InvoiceDate)...\n",
      "[2025-08-22 22:47:01] Deduplikacja rekordów...\n",
      "[2025-08-22 22:47:01] Usunięto duplikatów: 34,337\n",
      "[2025-08-22 22:47:01] Filtrowanie prawidłowych sprzedaży...\n",
      "[2025-08-22 22:47:01] Po filtrowaniu: 1,007,912 rekordów\n",
      "[2025-08-22 22:47:01] Standaryzacja krajów...\n",
      "[2025-08-22 22:47:01] Czyszczenie opisów produktu...\n",
      "[2025-08-22 22:47:02] Kalkulacja Total_Value...\n",
      "[2025-08-22 22:47:02] Łączny przychód: £20,476,082.17\n",
      "[2025-08-22 22:47:02] Quality Gates po czyszczeniu...\n",
      "Dane do klasyfikacji: 1,007,912 rekordów\n"
     ]
    }
   ],
   "source": [
    "print(\"KROK 1: Ładowanie i czyszczenie danych...\")\n",
    "\n",
    "raw_data = load_raw_excel(\"data/raw/online_retail_II.xlsx\")\n",
    "clean_data = clean_raw(raw_data)\n",
    "\n",
    "print(f\"Dane do klasyfikacji: {len(clean_data):,} rekordów\")"
   ]
  },
  {
   "cell_type": "code",
   "execution_count": 6,
   "id": "a2e009b2-b329-4751-9a1b-fd10783a81c1",
   "metadata": {},
   "outputs": [
    {
     "name": "stdout",
     "output_type": "stream",
     "text": [
      "KROK 2: Przygotowanie danych do klasyfikacji...\n",
      "Przygotowano 1,007,912 rekordów do klasyfikacji\n"
     ]
    }
   ],
   "source": [
    "print(\"KROK 2: Przygotowanie danych do klasyfikacji...\")\n",
    "\n",
    "# Skopiuj dane\n",
    "df = clean_data.copy()\n",
    "\n",
    "# Dodaj kolumny klasyfikacyjne\n",
    "df['TransactionCategory'] = 'ToVerification'\n",
    "df['ClassificationRule'] = 'None'\n",
    "df['ClassificationStep'] = 0\n",
    "\n",
    "print(f\"Przygotowano {len(df):,} rekordów do klasyfikacji\")"
   ]
  },
  {
   "cell_type": "code",
   "execution_count": null,
   "id": "6ba5777e-718c-4743-bf7d-c4d711a584b7",
   "metadata": {},
   "outputs": [],
   "source": []
  }
 ],
 "metadata": {
  "kernelspec": {
   "display_name": "Python 3.13",
   "language": "python",
   "name": "python313"
  },
  "language_info": {
   "codemirror_mode": {
    "name": "ipython",
    "version": 3
   },
   "file_extension": ".py",
   "mimetype": "text/x-python",
   "name": "python",
   "nbconvert_exporter": "python",
   "pygments_lexer": "ipython3",
   "version": "3.13.6"
  }
 },
 "nbformat": 4,
 "nbformat_minor": 5
}
