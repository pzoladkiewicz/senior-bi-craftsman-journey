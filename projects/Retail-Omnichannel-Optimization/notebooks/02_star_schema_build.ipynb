{
 "cells": [
  {
   "cell_type": "code",
   "execution_count": 1,
   "id": "ae99bab2-f9cb-4c10-b5f1-b2b25dffa88a",
   "metadata": {},
   "outputs": [
    {
     "name": "stdout",
     "output_type": "stream",
     "text": [
      "SETUP UKOŃCZONY\n",
      "Data uruchomienia: 2025-08-20 19:25:59\n",
      "Wersja Python: 3.13.6 (tags/v3.13.6:4e66535, Aug  6 2025, 14:36:00) [MSC v.1944 64 bit (AMD64)]\n",
      "Wersja Pandas: 2.3.1\n"
     ]
    }
   ],
   "source": [
    "import sys\n",
    "import os\n",
    "from pathlib import Path\n",
    "import pandas as pd\n",
    "import numpy as np\n",
    "from datetime import datetime\n",
    "import warnings\n",
    "warnings.filterwarnings('ignore')\n",
    "\n",
    "sys.path.append('..')\n",
    "\n",
    "from run_etl import run_all\n",
    "\n",
    "pd.set_option('display.max_columns', None)\n",
    "pd.set_option('display.max_rows', 100)\n",
    "\n",
    "print(\"SETUP UKOŃCZONY\")\n",
    "print(f\"Data uruchomienia: {datetime.now().strftime('%Y-%m-%d %H:%M:%S')}\")\n",
    "print(f\"Wersja Python: {sys.version}\")\n",
    "print(f\"Wersja Pandas: {pd.__version__}\")"
   ]
  },
  {
   "cell_type": "code",
   "execution_count": 2,
   "id": "62638e9b-ba2e-49a3-8447-d4a5e54200ee",
   "metadata": {},
   "outputs": [
    {
     "name": "stdout",
     "output_type": "stream",
     "text": [
      "URUCHAMIANIE ETL PIPELINE...\n",
      "============================================================\n",
      "[2025-08-20 19:25:59] === START: RUN ALL ETL ===\n",
      "[2025-08-20 19:25:59] Ładowanie surowych danych z: ../data/raw/online_retail_II.xlsx\n",
      "[2025-08-20 19:26:59] Wczytano 1,067,371 rekordów z 2 arkuszy\n",
      "[2025-08-20 19:26:59] Walidacja obecnosci kolumn RAW...\n",
      "[2025-08-20 19:26:59] Konwersja typów (Quantity, Price, InvoiceDate)...\n",
      "[2025-08-20 19:27:01] Deduplikacja rekordów...\n",
      "[2025-08-20 19:27:01] Usunięto duplikatów: 34,337\n",
      "[2025-08-20 19:27:01] Filtrowanie prawidłowych sprzedaży...\n",
      "[2025-08-20 19:27:01] Po filtrowaniu: 1,007,912 rekordów\n",
      "[2025-08-20 19:27:01] Standaryzacja krajów...\n",
      "[2025-08-20 19:27:01] Czyszczenie opisów produktu...\n",
      "[2025-08-20 19:27:02] Kalkulacja Total_Value...\n",
      "[2025-08-20 19:27:02] Łączny przychód: £20,476,082.17\n",
      "[2025-08-20 19:27:02] Quality Gates po czyszczeniu...\n",
      "[2025-08-20 19:27:02] Budowa Dim_Geography...\n",
      "[2025-08-20 19:27:02] Budowa Dim_Customer...\n",
      "[2025-08-20 19:27:02] Budowa Dim_Product...\n",
      "[2025-08-20 19:27:02] Budowa Dim_Date...\n",
      "[2025-08-20 19:27:03] Budowa Fact_Sales...\n",
      "[2025-08-20 19:27:03] Fact_Sales - wiersze: 1,007,912\n",
      "[2025-08-20 19:27:03] Zapisano: ../data/processed\\dim_geography.csv (43 wierszy)\n",
      "[2025-08-20 19:27:03] Zapisano: ../data/processed\\dim_customer.csv (5,879 wierszy)\n",
      "[2025-08-20 19:27:03] Zapisano: ../data/processed\\dim_product.csv (4,916 wierszy)\n",
      "[2025-08-20 19:27:03] Zapisano: ../data/processed\\dim_date.csv (1,105 wierszy)\n",
      "[2025-08-20 19:27:06] Zapisano: ../data/processed\\fact_sales.csv (1,007,912 wierszy)\n",
      "[2025-08-20 19:27:06] --- RAPORT KOŃCOWY ---\n",
      "[2025-08-20 19:27:06] RAW: 1,067,371\n",
      "[2025-08-20 19:27:06] CLEAN: 1,007,912\n",
      "[2025-08-20 19:27:06] DIM_GEOGRAPHY: 43\n",
      "[2025-08-20 19:27:06] DIM_CUSTOMER: 5,879\n",
      "[2025-08-20 19:27:06] DIM_PRODUCT: 4,916\n",
      "[2025-08-20 19:27:06] DIM_DATE: 1,105\n",
      "[2025-08-20 19:27:06] FACT_SALES: 1,007,912\n",
      "[2025-08-20 19:27:06] === STOP: RUN ALL ETL - SUKCES ===\n",
      "ETL PIPELINE UKOŃCZONYH POMYŚLNIE!\n"
     ]
    }
   ],
   "source": [
    "print(\"URUCHAMIANIE ETL PIPELINE...\")\n",
    "print(\"=\" * 60)\n",
    "\n",
    "INPUT_PATH = \"../data/raw/online_retail_II.xlsx\"\n",
    "OUTPUT_PATH = \"../data/processed\"\n",
    "\n",
    "try:\n",
    "    etl_results = run_all(\n",
    "        input_excel_path=INPUT_PATH,\n",
    "        output_dir=OUTPUT_PATH,\n",
    "        date_buffer_months=6\n",
    "    )\n",
    "\n",
    "    print(\"ETL PIPELINE UKOŃCZONYH POMYŚLNIE!\")\n",
    "\n",
    "except Exception as e:\n",
    "    print(f\"BŁĄD ETL PIPELINE: {e}\")\n",
    "    raise"
   ]
  },
  {
   "cell_type": "code",
   "execution_count": 3,
   "id": "4b7888f1-5c05-4570-a4e0-addf9d506b18",
   "metadata": {},
   "outputs": [
    {
     "name": "stdout",
     "output_type": "stream",
     "text": [
      "ANALIZA WYMIARÓW MODELU GWIAZDY\n",
      "============================================================\n",
      "Dim_Customer: 5,879 wierszy\n",
      "Dim_Product: 4,916 wierszy\n",
      "Dim_Geography: 43 wierszy\n",
      "Dim_Date: 1,105 wierszy\n",
      "Fact_Sales: 1,007,912 wierszy\n",
      "\n",
      "Szczegóły wymiarów:\n",
      "Klienci zarejestrowani: 5,878\n",
      "Klienci goście: 1\n",
      "Produkty prezentowe: 0\n",
      "Kraje UK: 1\n",
      "Zakres dat: 2009-06-01 do 2012-06-09\n"
     ]
    }
   ],
   "source": [
    "print(\"ANALIZA WYMIARÓW MODELU GWIAZDY\")\n",
    "print(\"=\" * 60)\n",
    "\n",
    "dim_customer = etl_results['dim_customer']\n",
    "dim_product = etl_results['dim_product']\n",
    "dim_geography = etl_results['dim_geography']\n",
    "dim_date = etl_results['dim_date']\n",
    "fact_sales = etl_results['fact_sales']\n",
    "\n",
    "print(f\"Dim_Customer: {len(dim_customer):,} wierszy\")\n",
    "print(f\"Dim_Product: {len(dim_product):,} wierszy\")\n",
    "print(f\"Dim_Geography: {len(dim_geography):,} wierszy\")\n",
    "print(f\"Dim_Date: {len(dim_date):,} wierszy\")\n",
    "print(f\"Fact_Sales: {len(fact_sales):,} wierszy\")\n",
    "\n",
    "print(\"\\nSzczegóły wymiarów:\")\n",
    "print(f\"Klienci zarejestrowani: {len(dim_customer[dim_customer['CustomerType'] == 'Registered']):,}\")\n",
    "print(f\"Klienci goście: {len(dim_customer[dim_customer['CustomerType'] == 'Guest']):,}\")\n",
    "print(f\"Produkty prezentowe: {dim_product['IsGift'].sum():,}\")\n",
    "print(f\"Kraje UK: {dim_geography['IsUK'].sum():,}\")\n",
    "print(f\"Zakres dat: {dim_date['Date'].min().date()} do {dim_date['Date'].max().date()}\")\n"
   ]
  }
 ],
 "metadata": {
  "kernelspec": {
   "display_name": "Python 3.13",
   "language": "python",
   "name": "python313"
  },
  "language_info": {
   "codemirror_mode": {
    "name": "ipython",
    "version": 3
   },
   "file_extension": ".py",
   "mimetype": "text/x-python",
   "name": "python",
   "nbconvert_exporter": "python",
   "pygments_lexer": "ipython3",
   "version": "3.13.6"
  }
 },
 "nbformat": 4,
 "nbformat_minor": 5
}
