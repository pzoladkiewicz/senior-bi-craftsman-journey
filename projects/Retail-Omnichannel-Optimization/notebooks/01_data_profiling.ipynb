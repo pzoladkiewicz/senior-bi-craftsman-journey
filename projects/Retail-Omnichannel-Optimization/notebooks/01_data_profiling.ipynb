{
 "cells": [
  {
   "cell_type": "code",
   "execution_count": 1,
   "id": "e3174c7f-cc3d-45c2-a2dc-329682dbc468",
   "metadata": {},
   "outputs": [
    {
     "name": "stdout",
     "output_type": "stream",
     "text": [
      "🚀 Rozpoczynamy analizę Online Retail II dataset\n",
      "==================================================\n",
      "✅ Python version: 2.3.1\n",
      "✅ Current time: 2025-08-12 19:02\n"
     ]
    }
   ],
   "source": [
    "\"\"\"\n",
    "01_data_profiling.ipynb\n",
    "======================\n",
    "Pierwsza analiza danych dla Retail Omnichannel Optimization\n",
    "Autor: Paweł Żołądkiewicz\n",
    "Data: 12 sierpnia 2025\n",
    "\n",
    "Cel: Poznanie datasetu, identyfikacja problemów jakościowych,\n",
    "     przygotowanie do budowy modelu gwiazdy.\n",
    "\"\"\"\n",
    "\n",
    "import pandas as pd\n",
    "import numpy as np\n",
    "import matplotlib.pyplot as plt\n",
    "import seaborn as sns\n",
    "import plotly.express as px\n",
    "from datetime import datetime\n",
    "import warnings\n",
    "warnings.filterwarnings('ignore')\n",
    "\n",
    "print(\"🚀 Rozpoczynamy analizę Online Retail II dataset\")\n",
    "print(\"=\" * 50)\n",
    "print(f\"✅ Python version: {pd.__version__}\")\n",
    "print(f\"✅ Current time: {datetime.now().strftime('%Y-%m-%d %H:%M')}\")\n"
   ]
  },
  {
   "cell_type": "code",
   "execution_count": 2,
   "id": "a2784f53-0bc1-4455-a137-06ffc10757d6",
   "metadata": {},
   "outputs": [
    {
     "name": "stdout",
     "output_type": "stream",
     "text": [
      "📂 Wczytywanie danych Online Retail II...\n",
      "✅ SUKCES! Wczytano 525,461 rekordów\n",
      "📊 Kolumny (8): ['Invoice', 'StockCode', 'Description', 'Quantity', 'InvoiceDate', 'Price', 'Customer ID', 'Country']\n",
      "💾 Rozmiar w pamięci: 122.9 MB\n",
      "📅 Zakres dat: 2009-12-01 07:45:00 → 2010-12-09 20:01:00\n"
     ]
    }
   ],
   "source": [
    "# ==========================================\n",
    "# WCZYTANIE DATASETU ONLINE RETAIL II\n",
    "# ==========================================\n",
    "\n",
    "print(\"📂 Wczytywanie danych Online Retail II...\")\n",
    "\n",
    "# Ścieżka do pliku (relative path z notebooks/)\n",
    "file_path = '../data/raw/online_retail_II.xlsx'\n",
    "\n",
    "try:\n",
    "    # Wczytanie Excel file\n",
    "    df = pd.read_excel(file_path)\n",
    "    \n",
    "    print(f\"✅ SUKCES! Wczytano {len(df):,} rekordów\")\n",
    "    print(f\"📊 Kolumny ({len(df.columns)}): {list(df.columns)}\")\n",
    "    print(f\"💾 Rozmiar w pamięci: {df.memory_usage(deep=True).sum() / 1024**2:.1f} MB\")\n",
    "    print(f\"📅 Zakres dat: {df['InvoiceDate'].min()} → {df['InvoiceDate'].max()}\")\n",
    "    \n",
    "except FileNotFoundError:\n",
    "    print(\"❌ BŁĄD: Nie znaleziono pliku online_retail_II.xlsx\")\n",
    "    print(\"📍 Sprawdź ścieżkę: projects/Retail-Omnichannel-Optimization/data/raw/\")\n",
    "    print(\"🔗 Pobierz z: https://archive.ics.uci.edu/ml/datasets/Online+Retail+II\")\n",
    "except Exception as e:\n",
    "    print(f\"❌ BŁĄD: {str(e)}\")\n"
   ]
  },
  {
   "cell_type": "code",
   "execution_count": 3,
   "id": "180d1185-8688-4e1c-a7c3-ab4430eff165",
   "metadata": {},
   "outputs": [
    {
     "name": "stdout",
     "output_type": "stream",
     "text": [
      "🔍 ANALIZA STRUKTURY DATASETU\n",
      "========================================\n",
      "📋 BASIC INFO:\n",
      "<class 'pandas.core.frame.DataFrame'>\n",
      "RangeIndex: 525461 entries, 0 to 525460\n",
      "Data columns (total 8 columns):\n",
      " #   Column       Non-Null Count   Dtype         \n",
      "---  ------       --------------   -----         \n",
      " 0   Invoice      525461 non-null  object        \n",
      " 1   StockCode    525461 non-null  object        \n",
      " 2   Description  522533 non-null  object        \n",
      " 3   Quantity     525461 non-null  int64         \n",
      " 4   InvoiceDate  525461 non-null  datetime64[ns]\n",
      " 5   Price        525461 non-null  float64       \n",
      " 6   Customer ID  417534 non-null  float64       \n",
      " 7   Country      525461 non-null  object        \n",
      "dtypes: datetime64[ns](1), float64(2), int64(1), object(4)\n",
      "memory usage: 32.1+ MB\n",
      "\n",
      "========================================\n",
      "📈 STATYSTYKI NUMERYCZNE:\n",
      "\n",
      "========================================\n",
      "🔤 UNIKALNE WARTOŚCI:\n",
      "• Invoice        :   28,816 unique |        0 nulls\n",
      "• StockCode      :    4,632 unique |        0 nulls\n",
      "• Description    :    4,681 unique |    2,928 nulls\n",
      "• Quantity       :      825 unique |        0 nulls\n",
      "• InvoiceDate    :   25,296 unique |        0 nulls\n",
      "• Price          :    1,606 unique |        0 nulls\n",
      "• Customer ID    :    4,383 unique |  107,927 nulls\n",
      "• Country        :       40 unique |        0 nulls\n"
     ]
    }
   ],
   "source": [
    "# ==========================================\n",
    "# PODSTAWOWA ANALIZA STRUKTURY DANYCH\n",
    "# ==========================================\n",
    "\n",
    "print(\"🔍 ANALIZA STRUKTURY DATASETU\")\n",
    "print(\"=\" * 40)\n",
    "\n",
    "# Podstawowe info\n",
    "print(\"📋 BASIC INFO:\")\n",
    "df.info()\n",
    "\n",
    "print(\"\\n\" + \"=\"*40)\n",
    "print(\"📈 STATYSTYKI NUMERYCZNE:\")\n",
    "df.describe()\n",
    "\n",
    "print(\"\\n\" + \"=\"*40)\n",
    "print(\"🔤 UNIKALNE WARTOŚCI:\")\n",
    "for col in df.columns:\n",
    "    unique_count = df[col].nunique()\n",
    "    null_count = df[col].isnull().sum()\n",
    "    print(f\"• {col:<15}: {unique_count:>8,} unique | {null_count:>8,} nulls\")\n"
   ]
  },
  {
   "cell_type": "code",
   "execution_count": null,
   "id": "0e93e211-2dd2-4384-b92f-67b21da0223a",
   "metadata": {},
   "outputs": [],
   "source": []
  }
 ],
 "metadata": {
  "kernelspec": {
   "display_name": "Python 3.13",
   "language": "python",
   "name": "python313"
  },
  "language_info": {
   "codemirror_mode": {
    "name": "ipython",
    "version": 3
   },
   "file_extension": ".py",
   "mimetype": "text/x-python",
   "name": "python",
   "nbconvert_exporter": "python",
   "pygments_lexer": "ipython3",
   "version": "3.13.6"
  }
 },
 "nbformat": 4,
 "nbformat_minor": 5
}
